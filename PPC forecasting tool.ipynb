{
 "cells": [
  {
   "cell_type": "code",
   "execution_count": 7,
   "id": "8e989e4f",
   "metadata": {},
   "outputs": [
    {
     "name": "stdout",
     "output_type": "stream",
     "text": [
      "66.9 conversions forecasted for this month.\n"
     ]
    }
   ],
   "source": [
    "import datetime\n",
    "import calendar\n",
    "\n",
    "# variables\n",
    "current_mo_conv = 29 # up to yesterday\n",
    "\n",
    "# dates\n",
    "current_date = datetime.date.today()\n",
    "current_month = current_date.month\n",
    "current_year = current_date.year\n",
    "first_day_of_month = current_date.replace(day=1)\n",
    "\n",
    "# formulas\n",
    "# number of days in current month\n",
    "current_month_days = calendar.monthrange(current_year, current_month)[1]\n",
    "\n",
    "# number of days to date this month\n",
    "current_mo_days_to_date = (current_date - first_day_of_month).days\n",
    "\n",
    "# forecasted conversions\n",
    "current_mo_forecast = (current_mo_conv / current_mo_days_to_date)*current_month_days\n",
    "\n",
    "# print outs\n",
    "sent_end = ' conversions forecasted for this month.'\n",
    "sent = str(round(current_mo_forecast,1)) + sent_end\n",
    "print(sent)"
   ]
  },
  {
   "cell_type": "code",
   "execution_count": null,
   "id": "a6bdc877",
   "metadata": {},
   "outputs": [],
   "source": []
  },
  {
   "cell_type": "code",
   "execution_count": null,
   "id": "a16c82e5",
   "metadata": {},
   "outputs": [],
   "source": []
  }
 ],
 "metadata": {
  "kernelspec": {
   "display_name": "Python 3 (ipykernel)",
   "language": "python",
   "name": "python3"
  },
  "language_info": {
   "codemirror_mode": {
    "name": "ipython",
    "version": 3
   },
   "file_extension": ".py",
   "mimetype": "text/x-python",
   "name": "python",
   "nbconvert_exporter": "python",
   "pygments_lexer": "ipython3",
   "version": "3.9.7"
  }
 },
 "nbformat": 4,
 "nbformat_minor": 5
}
